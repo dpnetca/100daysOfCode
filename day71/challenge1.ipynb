{
 "metadata": {
  "language_info": {
   "codemirror_mode": {
    "name": "ipython",
    "version": 3
   },
   "file_extension": ".py",
   "mimetype": "text/x-python",
   "name": "python",
   "nbconvert_exporter": "python",
   "pygments_lexer": "ipython3",
   "version": "3.9.3"
  },
  "orig_nbformat": 2,
  "kernelspec": {
   "name": "pythonjvsc74a57bd0ddef4fb332a54ed0fb839925c2b4ae6275f9d06d1ae1dfefd6c7d11ca2df0f2d",
   "display_name": "Python 3.9.3  ('.venv': venv)"
  },
  "metadata": {
   "interpreter": {
    "hash": "ddef4fb332a54ed0fb839925c2b4ae6275f9d06d1ae1dfefd6c7d11ca2df0f2d"
   }
  }
 },
 "nbformat": 4,
 "nbformat_minor": 2,
 "cells": [
  {
   "cell_type": "code",
   "execution_count": 1,
   "metadata": {},
   "outputs": [],
   "source": [
    "import requests\n",
    "\n",
    "from bs4 import BeautifulSoup\n",
    "import pandas as pd"
   ]
  },
  {
   "cell_type": "code",
   "execution_count": 2,
   "metadata": {},
   "outputs": [],
   "source": [
    "pd.options.display.float_format = '{:,.2f}'.format "
   ]
  },
  {
   "cell_type": "code",
   "execution_count": 3,
   "metadata": {},
   "outputs": [],
   "source": [
    "df = pd.DataFrame(columns=['Major','Early Career Pay','Mid Career Pay'])"
   ]
  },
  {
   "cell_type": "code",
   "execution_count": 4,
   "metadata": {},
   "outputs": [],
   "source": [
    "url = \"https://www.payscale.com/college-salary-report/majors-that-pay-you-back/bachelors\"\n",
    "response = requests.get(url)\n",
    "soup = BeautifulSoup(response.text, \"html.parser\")"
   ]
  },
  {
   "cell_type": "code",
   "execution_count": 5,
   "metadata": {},
   "outputs": [],
   "source": [
    "page_button = soup.find_all(class_=\"pagination__btn--inner\")\n",
    "num_of_pages = int(page_button[-2].get_text())"
   ]
  },
  {
   "cell_type": "code",
   "execution_count": 6,
   "metadata": {},
   "outputs": [],
   "source": [
    "for page in range(1, num_of_pages+1):\n",
    "    page_url = f\"{url}/page/{str(page)}\"\n",
    "    response = requests.get(page_url)\n",
    "    soup = BeautifulSoup(response.text, \"html.parser\")\n",
    "    data_rows = soup.find_all(class_=\"data-table__row\")\n",
    "    for row in data_rows:\n",
    "        cell = row.select(\"span.data-table__value\")\n",
    "        data = {\n",
    "            \"Major\": cell[1].get_text(),\n",
    "            \"Early Career Pay\": float(cell[3].get_text()[1:].replace(\",\",\"\")),\n",
    "            \"Mid Career Pay\": float(cell[4].get_text()[1:].replace(\",\",\"\"))\n",
    "        }\n",
    "        df = df.append(data, ignore_index=True)"
   ]
  },
  {
   "cell_type": "code",
   "execution_count": 7,
   "metadata": {},
   "outputs": [
    {
     "output_type": "execute_result",
     "data": {
      "text/plain": [
       "                                              Major  Early Career Pay  \\\n",
       "0                             Petroleum Engineering         92,300.00   \n",
       "1  Electrical Engineering & Computer Science (EECS)        101,200.00   \n",
       "2                  Applied Economics and Management         60,900.00   \n",
       "3                               Operations Research         78,400.00   \n",
       "4                                 Public Accounting         60,000.00   \n",
       "\n",
       "   Mid Career Pay  \n",
       "0      182,000.00  \n",
       "1      152,300.00  \n",
       "2      139,600.00  \n",
       "3      139,600.00  \n",
       "4      138,800.00  "
      ],
      "text/html": "<div>\n<style scoped>\n    .dataframe tbody tr th:only-of-type {\n        vertical-align: middle;\n    }\n\n    .dataframe tbody tr th {\n        vertical-align: top;\n    }\n\n    .dataframe thead th {\n        text-align: right;\n    }\n</style>\n<table border=\"1\" class=\"dataframe\">\n  <thead>\n    <tr style=\"text-align: right;\">\n      <th></th>\n      <th>Major</th>\n      <th>Early Career Pay</th>\n      <th>Mid Career Pay</th>\n    </tr>\n  </thead>\n  <tbody>\n    <tr>\n      <th>0</th>\n      <td>Petroleum Engineering</td>\n      <td>92,300.00</td>\n      <td>182,000.00</td>\n    </tr>\n    <tr>\n      <th>1</th>\n      <td>Electrical Engineering &amp; Computer Science (EECS)</td>\n      <td>101,200.00</td>\n      <td>152,300.00</td>\n    </tr>\n    <tr>\n      <th>2</th>\n      <td>Applied Economics and Management</td>\n      <td>60,900.00</td>\n      <td>139,600.00</td>\n    </tr>\n    <tr>\n      <th>3</th>\n      <td>Operations Research</td>\n      <td>78,400.00</td>\n      <td>139,600.00</td>\n    </tr>\n    <tr>\n      <th>4</th>\n      <td>Public Accounting</td>\n      <td>60,000.00</td>\n      <td>138,800.00</td>\n    </tr>\n  </tbody>\n</table>\n</div>"
     },
     "metadata": {},
     "execution_count": 7
    }
   ],
   "source": [
    "df.head()"
   ]
  },
  {
   "cell_type": "code",
   "execution_count": 8,
   "metadata": {},
   "outputs": [
    {
     "output_type": "execute_result",
     "data": {
      "text/plain": [
       "(834, 3)"
      ]
     },
     "metadata": {},
     "execution_count": 8
    }
   ],
   "source": [
    "df.shape"
   ]
  },
  {
   "cell_type": "code",
   "execution_count": 9,
   "metadata": {},
   "outputs": [
    {
     "output_type": "execute_result",
     "data": {
      "text/plain": [
       "                                               Major  Early Career Pay  \\\n",
       "1   Electrical Engineering & Computer Science (EECS)        101,200.00   \n",
       "74                       Physician Assistant Studies         92,900.00   \n",
       "0                              Petroleum Engineering         92,300.00   \n",
       "49                         Metallurgical Engineering         79,100.00   \n",
       "3                                Operations Research         78,400.00   \n",
       "\n",
       "    Mid Career Pay  \n",
       "1       152,300.00  \n",
       "74      112,200.00  \n",
       "0       182,000.00  \n",
       "49      117,700.00  \n",
       "3       139,600.00  "
      ],
      "text/html": "<div>\n<style scoped>\n    .dataframe tbody tr th:only-of-type {\n        vertical-align: middle;\n    }\n\n    .dataframe tbody tr th {\n        vertical-align: top;\n    }\n\n    .dataframe thead th {\n        text-align: right;\n    }\n</style>\n<table border=\"1\" class=\"dataframe\">\n  <thead>\n    <tr style=\"text-align: right;\">\n      <th></th>\n      <th>Major</th>\n      <th>Early Career Pay</th>\n      <th>Mid Career Pay</th>\n    </tr>\n  </thead>\n  <tbody>\n    <tr>\n      <th>1</th>\n      <td>Electrical Engineering &amp; Computer Science (EECS)</td>\n      <td>101,200.00</td>\n      <td>152,300.00</td>\n    </tr>\n    <tr>\n      <th>74</th>\n      <td>Physician Assistant Studies</td>\n      <td>92,900.00</td>\n      <td>112,200.00</td>\n    </tr>\n    <tr>\n      <th>0</th>\n      <td>Petroleum Engineering</td>\n      <td>92,300.00</td>\n      <td>182,000.00</td>\n    </tr>\n    <tr>\n      <th>49</th>\n      <td>Metallurgical Engineering</td>\n      <td>79,100.00</td>\n      <td>117,700.00</td>\n    </tr>\n    <tr>\n      <th>3</th>\n      <td>Operations Research</td>\n      <td>78,400.00</td>\n      <td>139,600.00</td>\n    </tr>\n  </tbody>\n</table>\n</div>"
     },
     "metadata": {},
     "execution_count": 9
    }
   ],
   "source": [
    "high_start = df.sort_values(\"Early Career Pay\", ascending=False)\n",
    "high_start.head()"
   ]
  },
  {
   "cell_type": "code",
   "execution_count": 10,
   "metadata": {},
   "outputs": [
    {
     "output_type": "execute_result",
     "data": {
      "text/plain": [
       "                                              Major  Early Career Pay  \\\n",
       "0                             Petroleum Engineering         92,300.00   \n",
       "1  Electrical Engineering & Computer Science (EECS)        101,200.00   \n",
       "2                  Applied Economics and Management         60,900.00   \n",
       "3                               Operations Research         78,400.00   \n",
       "4                                 Public Accounting         60,000.00   \n",
       "\n",
       "   Mid Career Pay  \n",
       "0      182,000.00  \n",
       "1      152,300.00  \n",
       "2      139,600.00  \n",
       "3      139,600.00  \n",
       "4      138,800.00  "
      ],
      "text/html": "<div>\n<style scoped>\n    .dataframe tbody tr th:only-of-type {\n        vertical-align: middle;\n    }\n\n    .dataframe tbody tr th {\n        vertical-align: top;\n    }\n\n    .dataframe thead th {\n        text-align: right;\n    }\n</style>\n<table border=\"1\" class=\"dataframe\">\n  <thead>\n    <tr style=\"text-align: right;\">\n      <th></th>\n      <th>Major</th>\n      <th>Early Career Pay</th>\n      <th>Mid Career Pay</th>\n    </tr>\n  </thead>\n  <tbody>\n    <tr>\n      <th>0</th>\n      <td>Petroleum Engineering</td>\n      <td>92,300.00</td>\n      <td>182,000.00</td>\n    </tr>\n    <tr>\n      <th>1</th>\n      <td>Electrical Engineering &amp; Computer Science (EECS)</td>\n      <td>101,200.00</td>\n      <td>152,300.00</td>\n    </tr>\n    <tr>\n      <th>2</th>\n      <td>Applied Economics and Management</td>\n      <td>60,900.00</td>\n      <td>139,600.00</td>\n    </tr>\n    <tr>\n      <th>3</th>\n      <td>Operations Research</td>\n      <td>78,400.00</td>\n      <td>139,600.00</td>\n    </tr>\n    <tr>\n      <th>4</th>\n      <td>Public Accounting</td>\n      <td>60,000.00</td>\n      <td>138,800.00</td>\n    </tr>\n  </tbody>\n</table>\n</div>"
     },
     "metadata": {},
     "execution_count": 10
    }
   ],
   "source": [
    "high_mid = df.sort_values(\"Mid Career Pay\", ascending=False)\n",
    "high_mid.head()"
   ]
  },
  {
   "cell_type": "code",
   "execution_count": null,
   "metadata": {},
   "outputs": [],
   "source": []
  }
 ]
}