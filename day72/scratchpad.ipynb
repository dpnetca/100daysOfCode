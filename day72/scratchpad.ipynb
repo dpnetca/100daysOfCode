{
 "metadata": {
  "language_info": {
   "codemirror_mode": {
    "name": "ipython",
    "version": 3
   },
   "file_extension": ".py",
   "mimetype": "text/x-python",
   "name": "python",
   "nbconvert_exporter": "python",
   "pygments_lexer": "ipython3",
   "version": "3.9.3"
  },
  "orig_nbformat": 2,
  "kernelspec": {
   "name": "pythonjvsc74a57bd0ddef4fb332a54ed0fb839925c2b4ae6275f9d06d1ae1dfefd6c7d11ca2df0f2d",
   "display_name": "Python 3.9.3  ('.venv': venv)"
  },
  "metadata": {
   "interpreter": {
    "hash": "ddef4fb332a54ed0fb839925c2b4ae6275f9d06d1ae1dfefd6c7d11ca2df0f2d"
   }
  }
 },
 "nbformat": 4,
 "nbformat_minor": 2,
 "cells": [
  {
   "cell_type": "code",
   "execution_count": 2,
   "metadata": {},
   "outputs": [],
   "source": [
    "import pandas as pd"
   ]
  },
  {
   "cell_type": "code",
   "execution_count": 3,
   "metadata": {},
   "outputs": [
    {
     "output_type": "execute_result",
     "data": {
      "text/plain": [
       "     Age      Actor  Power\n",
       "0  Young       Jack    100\n",
       "1  Young     Arnold     80\n",
       "2  Young      Keanu     25\n",
       "3  Young  Sylvester     50\n",
       "4    Old       Jack     99\n",
       "5    Old     Arnold     75\n",
       "6    Old      Keanu      5\n",
       "7    Old  Sylvester     30"
      ],
      "text/html": "<div>\n<style scoped>\n    .dataframe tbody tr th:only-of-type {\n        vertical-align: middle;\n    }\n\n    .dataframe tbody tr th {\n        vertical-align: top;\n    }\n\n    .dataframe thead th {\n        text-align: right;\n    }\n</style>\n<table border=\"1\" class=\"dataframe\">\n  <thead>\n    <tr style=\"text-align: right;\">\n      <th></th>\n      <th>Age</th>\n      <th>Actor</th>\n      <th>Power</th>\n    </tr>\n  </thead>\n  <tbody>\n    <tr>\n      <th>0</th>\n      <td>Young</td>\n      <td>Jack</td>\n      <td>100</td>\n    </tr>\n    <tr>\n      <th>1</th>\n      <td>Young</td>\n      <td>Arnold</td>\n      <td>80</td>\n    </tr>\n    <tr>\n      <th>2</th>\n      <td>Young</td>\n      <td>Keanu</td>\n      <td>25</td>\n    </tr>\n    <tr>\n      <th>3</th>\n      <td>Young</td>\n      <td>Sylvester</td>\n      <td>50</td>\n    </tr>\n    <tr>\n      <th>4</th>\n      <td>Old</td>\n      <td>Jack</td>\n      <td>99</td>\n    </tr>\n    <tr>\n      <th>5</th>\n      <td>Old</td>\n      <td>Arnold</td>\n      <td>75</td>\n    </tr>\n    <tr>\n      <th>6</th>\n      <td>Old</td>\n      <td>Keanu</td>\n      <td>5</td>\n    </tr>\n    <tr>\n      <th>7</th>\n      <td>Old</td>\n      <td>Sylvester</td>\n      <td>30</td>\n    </tr>\n  </tbody>\n</table>\n</div>"
     },
     "metadata": {},
     "execution_count": 3
    }
   ],
   "source": [
    "test_df = pd.DataFrame({'Age': ['Young', 'Young', 'Young', 'Young', 'Old', 'Old', 'Old', 'Old'],\n",
    "                        'Actor': ['Jack', 'Arnold', 'Keanu', 'Sylvester', 'Jack', 'Arnold', 'Keanu', 'Sylvester'],\n",
    "                        'Power': [100, 80, 25, 50, 99, 75, 5, 30]})\n",
    "test_df"
   ]
  },
  {
   "cell_type": "code",
   "execution_count": 4,
   "metadata": {},
   "outputs": [
    {
     "output_type": "execute_result",
     "data": {
      "text/plain": [
       "Actor  Arnold  Jack  Keanu  Sylvester\n",
       "Age                                  \n",
       "Old        75    99      5         30\n",
       "Young      80   100     25         50"
      ],
      "text/html": "<div>\n<style scoped>\n    .dataframe tbody tr th:only-of-type {\n        vertical-align: middle;\n    }\n\n    .dataframe tbody tr th {\n        vertical-align: top;\n    }\n\n    .dataframe thead th {\n        text-align: right;\n    }\n</style>\n<table border=\"1\" class=\"dataframe\">\n  <thead>\n    <tr style=\"text-align: right;\">\n      <th>Actor</th>\n      <th>Arnold</th>\n      <th>Jack</th>\n      <th>Keanu</th>\n      <th>Sylvester</th>\n    </tr>\n    <tr>\n      <th>Age</th>\n      <th></th>\n      <th></th>\n      <th></th>\n      <th></th>\n    </tr>\n  </thead>\n  <tbody>\n    <tr>\n      <th>Old</th>\n      <td>75</td>\n      <td>99</td>\n      <td>5</td>\n      <td>30</td>\n    </tr>\n    <tr>\n      <th>Young</th>\n      <td>80</td>\n      <td>100</td>\n      <td>25</td>\n      <td>50</td>\n    </tr>\n  </tbody>\n</table>\n</div>"
     },
     "metadata": {},
     "execution_count": 4
    }
   ],
   "source": [
    "pivoted_df = test_df.pivot(index='Age', columns='Actor', values='Power')\n",
    "pivoted_df"
   ]
  },
  {
   "cell_type": "code",
   "execution_count": null,
   "metadata": {},
   "outputs": [],
   "source": []
  }
 ]
}